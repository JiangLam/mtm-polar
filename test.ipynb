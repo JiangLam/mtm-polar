{
 "cells": [
  {
   "cell_type": "code",
   "execution_count": 3,
   "id": "339455d6-60f6-466d-a224-8133cd93a1fb",
   "metadata": {
    "execution": {
     "iopub.execute_input": "2024-04-14T13:02:31.550577Z",
     "iopub.status.busy": "2024-04-14T13:02:31.549592Z",
     "iopub.status.idle": "2024-04-14T13:02:31.556813Z",
     "shell.execute_reply": "2024-04-14T13:02:31.556813Z",
     "shell.execute_reply.started": "2024-04-14T13:02:31.550577Z"
    }
   },
   "outputs": [],
   "source": [
    "from filepath.filepath import *"
   ]
  },
  {
   "cell_type": "code",
   "execution_count": 4,
   "id": "d0b2a025-91ef-4600-8f9c-99cbce5c38e1",
   "metadata": {
    "execution": {
     "iopub.execute_input": "2024-04-14T13:02:32.233527Z",
     "iopub.status.busy": "2024-04-14T13:02:32.232530Z",
     "iopub.status.idle": "2024-04-14T13:02:32.239443Z",
     "shell.execute_reply": "2024-04-14T13:02:32.238442Z",
     "shell.execute_reply.started": "2024-04-14T13:02:32.233527Z"
    }
   },
   "outputs": [
    {
     "name": "stdout",
     "output_type": "stream",
     "text": [
      "['/11693李增荣/R/4X-350/normal wsi/1+1', '/11693李增荣/R/4X-350/normal wsi/1+2', '/11693李增荣/R/4X-350/normal wsi/1+3', '/11693李增荣/R/4X-350/normal wsi/1+4', '/11693李增荣/R/4X-350/normal wsi/1+5', '/11693李增荣/R/4X-350/normal wsi/1+6', '/11693李增荣/R/4X-350/normal wsi/1+7', '/11693李增荣/R/4X-350/normal wsi/1+8', '/11693李增荣/R/4X-350/normal wsi/1+9', '/11693李增荣/R/4X-350/normal wsi/1+10', '/11693李增荣/R/4X-350/normal wsi/2+1', '/11693李增荣/R/4X-350/normal wsi/2+2', '/11693李增荣/R/4X-350/normal wsi/2+3', '/11693李增荣/R/4X-350/normal wsi/2+4', '/11693李增荣/R/4X-350/normal wsi/2+5', '/11693李增荣/R/4X-350/normal wsi/2+6', '/11693李增荣/R/4X-350/normal wsi/2+7', '/11693李增荣/R/4X-350/normal wsi/2+8', '/11693李增荣/R/4X-350/normal wsi/2+9', '/11693李增荣/R/4X-350/normal wsi/2+10', '/11693李增荣/R/4X-350/normal wsi/3+1', '/11693李增荣/R/4X-350/normal wsi/3+2', '/11693李增荣/R/4X-350/normal wsi/3+3', '/11693李增荣/R/4X-350/normal wsi/3+4', '/11693李增荣/R/4X-350/normal wsi/3+5', '/11693李增荣/R/4X-350/normal wsi/3+6', '/11693李增荣/R/4X-350/normal wsi/3+7', '/11693李增荣/R/4X-350/normal wsi/3+8', '/11693李增荣/R/4X-350/normal wsi/3+9', '/11693李增荣/R/4X-350/normal wsi/3+10', '/11693李增荣/R/4X-350/normal wsi/4+1', '/11693李增荣/R/4X-350/normal wsi/4+2', '/11693李增荣/R/4X-350/normal wsi/4+4', '/11693李增荣/R/4X-350/normal wsi/4+5', '/11693李增荣/R/4X-350/normal wsi/4+6', '/11693李增荣/R/4X-350/normal wsi/4+7', '/11693李增荣/R/4X-350/normal wsi/4+8', '/11693李增荣/R/4X-350/normal wsi/4+9', '/11693李增荣/R/4X-350/normal wsi/4+10', '/11693李增荣/R/4X-350/normal wsi/5+1', '/11693李增荣/R/4X-350/normal wsi/5+2', '/11693李增荣/R/4X-350/normal wsi/5+3', '/11693李增荣/R/4X-350/normal wsi/5+4', '/11693李增荣/R/4X-350/normal wsi/5+5', '/11693李增荣/R/4X-350/normal wsi/5+6', '/11693李增荣/R/4X-350/normal wsi/5+7', '/11693李增荣/R/4X-350/normal wsi/5+8', '/11693李增荣/R/4X-350/normal wsi/5+9', '/11693李增荣/R/4X-350/normal wsi/5+10', '/11693李增荣/R/4X-350/normal wsi/6+1', '/11693李增荣/R/4X-350/normal wsi/6+2', '/11693李增荣/R/4X-350/normal wsi/6+3', '/11693李增荣/R/4X-350/normal wsi/6+4', '/11693李增荣/R/4X-350/normal wsi/6+5', '/11693李增荣/R/4X-350/normal wsi/6+6', '/11693李增荣/R/4X-350/normal wsi/6+7', '/11693李增荣/R/4X-350/normal wsi/6+8', '/11693李增荣/R/4X-350/normal wsi/6+9', '/11693李增荣/R/4X-350/normal wsi/6+10', '/11693李增荣/R/4X-350/normal wsi/7+1', '/11693李增荣/R/4X-350/normal wsi/7+2', '/11693李增荣/R/4X-350/normal wsi/7+3', '/11693李增荣/R/4X-350/normal wsi/7+4', '/11693李增荣/R/4X-350/normal wsi/7+5', '/11693李增荣/R/4X-350/normal wsi/7+6', '/11693李增荣/R/4X-350/normal wsi/7+7', '/11693李增荣/R/4X-350/normal wsi/7+8', '/11693李增荣/R/4X-350/normal wsi/7+9', '/11693李增荣/R/4X-350/normal wsi/7+10', '/11693李增荣/R/4X-350/normal wsi/8+1', '/11693李增荣/R/4X-350/normal wsi/8+2', '/11693李增荣/R/4X-350/normal wsi/8+3', '/11693李增荣/R/4X-350/normal wsi/8+4', '/11693李增荣/R/4X-350/normal wsi/8+5', '/11693李增荣/R/4X-350/normal wsi/8+6', '/11693李增荣/R/4X-350/normal wsi/8+7', '/11693李增荣/R/4X-350/normal wsi/8+8', '/11693李增荣/R/4X-350/normal wsi/8+9', '/11693李增荣/R/4X-350/normal wsi/8+10', '/11693李增荣/R/4X-350/normal wsi/9+4', '/11693李增荣/R/4X-350/normal wsi/9+5', '/11693李增荣/R/4X-350/normal wsi/9+6', '/11693李增荣/R/4X-350/normal wsi/9+7', '/11693李增荣/R/4X-350/normal wsi/9+8', '/11693李增荣/R/4X-350/normal wsi/9+9', '/11693李增荣/R/4X-350/normal wsi/9+10', '/11693李增荣/R/4X-350/normal wsi/10+1', '/11693李增荣/R/4X-350/normal wsi/10+2', '/11693李增荣/R/4X-350/normal wsi/10+3', '/11693李增荣/R/4X-350/normal wsi/10+4', '/11693李增荣/R/4X-350/normal wsi/10+5', '/11693李增荣/R/4X-350/normal wsi/10+6', '/11693李增荣/R/4X-350/normal wsi/10+7', '/11693李增荣/R/4X-350/normal wsi/10+8', '/11693李增荣/R/4X-350/normal wsi/10+9', '/11693李增荣/R/4X-350/normal wsi/10+10', '/11693李增荣/R/4X-350/canceer wsi/2+1', '/11693李增荣/R/4X-350/canceer wsi/2+2', '/11693李增荣/R/4X-350/canceer wsi/2+3', '/11693李增荣/R/4X-350/canceer wsi/2+4', '/11693李增荣/R/4X-350/canceer wsi/3+1', '/11693李增荣/R/4X-350/canceer wsi/3+2', '/11693李增荣/R/4X-350/canceer wsi/3+3', '/11693李增荣/R/4X-350/canceer wsi/3+4', '/11693李增荣/R/4X-350/canceer wsi/3+5', '/11693李增荣/R/4X-350/canceer wsi/3+10', '/11693李增荣/R/4X-350/canceer wsi/3+11', '/11693李增荣/R/4X-350/canceer wsi/4+1', '/11693李增荣/R/4X-350/canceer wsi/4+2', '/11693李增荣/R/4X-350/canceer wsi/4+3', '/11693李增荣/R/4X-350/canceer wsi/4+4', '/11693李增荣/R/4X-350/canceer wsi/4+5', '/11693李增荣/R/4X-350/canceer wsi/4+6', '/11693李增荣/R/4X-350/canceer wsi/4+7', '/11693李增荣/R/4X-350/canceer wsi/4+8', '/11693李增荣/R/4X-350/canceer wsi/4+9', '/11693李增荣/R/4X-350/canceer wsi/4+10', '/11693李增荣/R/4X-350/canceer wsi/4+11', '/11693李增荣/R/4X-350/canceer wsi/5+1', '/11693李增荣/R/4X-350/canceer wsi/5+2', '/11693李增荣/R/4X-350/canceer wsi/5+3', '/11693李增荣/R/4X-350/canceer wsi/5+4', '/11693李增荣/R/4X-350/canceer wsi/5+5', '/11693李增荣/R/4X-350/canceer wsi/5+6', '/11693李增荣/R/4X-350/canceer wsi/5+7', '/11693李增荣/R/4X-350/canceer wsi/5+8', '/11693李增荣/R/4X-350/canceer wsi/5+9', '/11693李增荣/R/4X-350/canceer wsi/5+10', '/11693李增荣/R/4X-350/canceer wsi/5+11', '/11693李增荣/R/4X-350/canceer wsi/6+1', '/11693李增荣/R/4X-350/canceer wsi/6+2', '/11693李增荣/R/4X-350/canceer wsi/6+3', '/11693李增荣/R/4X-350/canceer wsi/6+4', '/11693李增荣/R/4X-350/canceer wsi/6+5', '/11693李增荣/R/4X-350/canceer wsi/6+6', '/11693李增荣/R/4X-350/canceer wsi/6+7', '/11693李增荣/R/4X-350/canceer wsi/6+8', '/11693李增荣/R/4X-350/canceer wsi/6+9', '/11693李增荣/R/4X-350/canceer wsi/6+10', '/11693李增荣/R/4X-350/canceer wsi/6+11', '/11693李增荣/R/4X-350/canceer wsi/7+1', '/11693李增荣/R/4X-350/canceer wsi/7+2', '/11693李增荣/R/4X-350/canceer wsi/7+3', '/11693李增荣/R/4X-350/canceer wsi/7+4', '/11693李增荣/R/4X-350/canceer wsi/7+5', '/11693李增荣/R/4X-350/canceer wsi/7+6', '/11693李增荣/R/4X-350/canceer wsi/7+7', '/11693李增荣/R/4X-350/canceer wsi/7+8', '/11693李增荣/R/4X-350/canceer wsi/7+9', '/11693李增荣/R/4X-350/canceer wsi/7+10', '/11693李增荣/R/4X-350/canceer wsi/7+11', '/11693李增荣/R/4X-350/canceer wsi/8+1', '/11693李增荣/R/4X-350/canceer wsi/8+2', '/11693李增荣/R/4X-350/canceer wsi/8+3', '/11693李增荣/R/4X-350/canceer wsi/8+4', '/11693李增荣/R/4X-350/canceer wsi/8+5', '/11693李增荣/R/4X-350/canceer wsi/8+6', '/11693李增荣/R/4X-350/canceer wsi/8+7', '/11693李增荣/R/4X-350/canceer wsi/8+8', '/11693李增荣/R/4X-350/canceer wsi/8+9', '/11693李增荣/R/4X-350/canceer wsi/8+10', '/11693李增荣/R/4X-350/canceer wsi/8+11']\n"
     ]
    }
   ],
   "source": [
    "print(file_path_11693_4x)"
   ]
  },
  {
   "cell_type": "code",
   "execution_count": null,
   "id": "87835f92-06ae-41f7-b6fd-5bb06a4a015f",
   "metadata": {},
   "outputs": [],
   "source": []
  }
 ],
 "metadata": {
  "kernelspec": {
   "display_name": "Python 3 (ipykernel)",
   "language": "python",
   "name": "python3"
  },
  "language_info": {
   "codemirror_mode": {
    "name": "ipython",
    "version": 3
   },
   "file_extension": ".py",
   "mimetype": "text/x-python",
   "name": "python",
   "nbconvert_exporter": "python",
   "pygments_lexer": "ipython3",
   "version": "3.11.7"
  }
 },
 "nbformat": 4,
 "nbformat_minor": 5
}
